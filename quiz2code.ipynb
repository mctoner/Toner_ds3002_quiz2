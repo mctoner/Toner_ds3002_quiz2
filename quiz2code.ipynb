{
 "cells": [
  {
   "cell_type": "code",
   "execution_count": 2,
   "metadata": {},
   "outputs": [],
   "source": [
    "import json\n",
    "import requests\n",
    "import time\n",
    "import sys\n",
    "from csv import writer #writing new row to csv"
   ]
  },
  {
   "cell_type": "code",
   "execution_count": 3,
   "metadata": {},
   "outputs": [
    {
     "name": "stdout",
     "output_type": "stream",
     "text": [
      "You did not provide a valid stock ticker! Please try again.\n"
     ]
    }
   ],
   "source": [
    "\n",
    "apikey=\"S9SK7NK34k62ZL6sUxKTR1phiyCaoa0d2QpsESjo\"\n",
    "\n",
    "\n",
    "url = \"https://yfapi.net/v6/finance/quote\"\n",
    "querystring = {\"symbols\":sys.argv[1]} #sys.argv[1] will be the command line variable stock ticker\n",
    "headers = {\n",
    "  'x-api-key': apikey\n",
    "   }\n",
    "response = requests.request(\"GET\", url, headers=headers, params=querystring) #pull data from API\n",
    "#print(response.text)\n",
    "response.raise_for_status()  # raises exception when not a 2xx response \n",
    "stock_json = response.json() #create json of ticker info\n",
    "\n",
    "if stock_json['quoteResponse']['result']==[]: #what prints when the stock ticker is not known\n",
    "    print('You did not provide a valid stock ticker! Please try again.') #handling erreneous input\n",
    "elif response.status_code != 204: #if stock ticker is entered correctly...\n",
    "    timestamp = int(stock_json['quoteResponse']['result'][0][\"regularMarketTime\"]) #extract current market time\n",
    "    time_converted=time.strftime(\"%Y-%m-%d %H:%M:%S\", time.gmtime(timestamp)) #convert time\n",
    "    name=stock_json['quoteResponse']['result'][0][\"shortName\"] #store short name for stock\n",
    "    price=str(stock_json['quoteResponse']['result'][0][\"regularMarketPrice\"]) #store current price\n",
    "    #create output  via command line\n",
    "    print(\"Short Name: \"+ name + \" \\nPrice: $\" + price+ \"\\nTime: \"+ time_converted)\n",
    "    #create row of data\n",
    "    newrow=[stock_json['quoteResponse']['result'][0][\"symbol\"],time_converted,price]\n",
    "    #append new row to csv file\n",
    "    with open('apistocks.csv', 'a', newline='') as f_object:  \n",
    "    #Pass the CSV  file object to the writer() function and pass in 'newrow'\n",
    "        writer_object = writer(f_object)\n",
    "        writer_object.writerow(newrow)  \n",
    "        f_object.close() #close the file object \n",
    "## source for CSV code: https://www.delftstack.com/howto/python/python-append-to-csv/"
   ]
  },
  {
   "cell_type": "code",
   "execution_count": null,
   "metadata": {},
   "outputs": [],
   "source": []
  }
 ],
 "metadata": {
  "kernelspec": {
   "display_name": "Python 3",
   "language": "python",
   "name": "python3"
  },
  "language_info": {
   "codemirror_mode": {
    "name": "ipython",
    "version": 3
   },
   "file_extension": ".py",
   "mimetype": "text/x-python",
   "name": "python",
   "nbconvert_exporter": "python",
   "pygments_lexer": "ipython3",
   "version": "3.8.5"
  }
 },
 "nbformat": 4,
 "nbformat_minor": 4
}
